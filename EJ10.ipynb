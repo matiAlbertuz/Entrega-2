{
 "cells": [
  {
   "cell_type": "markdown",
   "metadata": {},
   "source": [
    "# Python 2024 - Práctica 2\n",
    "\n",
    "Un club de hockey posee las estadísticas de todxs sus jugadorxs de la última temporada jugada del torneo de hockey mixto. Poseen una lista con los nombres, otra con los goles a favor, otra con los goles evitados y la última con las asistencias realizadas.\n",
    "\n",
    "### Comienzo a trabajar a partir del siguiente codigo:"
   ]
  },
  {
   "cell_type": "code",
   "execution_count": 1,
   "metadata": {},
   "outputs": [],
   "source": [
    "names = \"\"\" Agustin, Yanina, Andrés, Ariadna, Bautista, CAROLINA,\n",
    "CESAR, David, Diego, Dolores, DYLAN, ELIANA, Emanuel, Fabián, Noelia,\n",
    "Francsica', FEDERICO, Fernanda, GONZALO, Nancy \"\"\"\n",
    "goals = [0, 10, 4, 0, 5, 14, 0, 0, 7, 2, 1, 1, 1, 5, 6, 1, 1, 2, 0,\n",
    "11]\n",
    "goals_avoided = [0, 2, 0, 0, 5, 2, 0, 0, 1, 2, 0, 5, 5, 0, 1, 0, 2,\n",
    "3, 0, 0]\n",
    "assists = [0, 5, 1, 0, 5, 2, 0, 0, 1, 2, 1, 5, 5, 0, 1, 0, 2, 3, 1,\n",
    "0]"
   ]
  },
  {
   "cell_type": "markdown",
   "metadata": {},
   "source": [
    "### \"Limpio\" la cadena de nombres y los paso a una lista"
   ]
  },
  {
   "cell_type": "code",
   "execution_count": 2,
   "metadata": {},
   "outputs": [
    {
     "name": "stdout",
     "output_type": "stream",
     "text": [
      "['Agustin', 'Yanina', 'Andrés', 'Ariadna', 'Bautista', 'CAROLINA', 'CESAR', 'David', 'Diego', 'Dolores', 'DYLAN', 'ELIANA', 'Emanuel', 'Fabián', 'Noelia', 'Francsica', 'FEDERICO', 'Fernanda', 'GONZALO', 'Nancy']\n"
     ]
    }
   ],
   "source": [
    "names=names.replace(\",\",\"\").replace(\"\\'\",\"\")\n",
    "names_list=names.split()\n",
    "print(names_list)"
   ]
  },
  {
   "cell_type": "markdown",
   "metadata": {},
   "source": [
    "### Importo el módulo calculadora_de_premios donde tengo las funciones para resolver el ejercicio"
   ]
  },
  {
   "cell_type": "code",
   "execution_count": 3,
   "metadata": {},
   "outputs": [],
   "source": [
    "import calculadora_de_premios"
   ]
  },
  {
   "cell_type": "markdown",
   "metadata": {},
   "source": [
    "### Continúo con el ejercicio.\n",
    "\n",
    "### El club está por otorgar los premios de cierre de temporada y necesita:\n",
    "\n",
    "#### **1. Generar una estructura todas las estadísticas asociadas a cada jugador o jugadora.**\n",
    "\n",
    "Para ello,dentro del modulo calculadora_de_premios, defino una funcion llamada \"combine_player_stats\" la cual recibe como parámetro las 4 listas con los datos de los jugadores y retorna una lista de tuplas donde cada tupla contiene el nombre de un jugador junto con sus estadísticas de goles, goles evitados y asistencias . Luego, se invoca a esta funcion con sus respectivos parámetros y se asigna su resultado a la variable \"players_stats\"."
   ]
  },
  {
   "cell_type": "code",
   "execution_count": 4,
   "metadata": {},
   "outputs": [
    {
     "name": "stdout",
     "output_type": "stream",
     "text": [
      "[('Agustin', 0, 0, 0), ('Yanina', 10, 2, 5), ('Andrés', 4, 0, 1), ('Ariadna', 0, 0, 0), ('Bautista', 5, 5, 5), ('CAROLINA', 14, 2, 2), ('CESAR', 0, 0, 0), ('David', 0, 0, 0), ('Diego', 7, 1, 1), ('Dolores', 2, 2, 2), ('DYLAN', 1, 0, 1), ('ELIANA', 1, 5, 5), ('Emanuel', 1, 5, 5), ('Fabián', 5, 0, 0), ('Noelia', 6, 1, 1), ('Francsica', 1, 0, 0), ('FEDERICO', 1, 2, 2), ('Fernanda', 2, 3, 3), ('GONZALO', 0, 0, 1), ('Nancy', 11, 0, 0)]\n"
     ]
    }
   ],
   "source": [
    "players_stats= calculadora_de_premios.combine_player_stats(names_list,goals,goals_avoided,assists)\n",
    "print(players_stats)"
   ]
  },
  {
   "cell_type": "markdown",
   "metadata": {},
   "source": [
    "#### **2. Conocer el nombre y la cantidad de goles del goleador o goleadora.**\n",
    "\n",
    "Para ello,dentro del modulo calculadora_de_premios, defino una funcion llamada \"get_top_scorer\" la cual recibe como parámetro la lista generada en el inciso 1 y retorna una tupla con el nombre y los goles del goleador o goleadora. Luego, se invoca a esta funcion con su respectivo parámetro y se asigna su resultado a la variable \"top_scorer\"."
   ]
  },
  {
   "cell_type": "code",
   "execution_count": 5,
   "metadata": {},
   "outputs": [
    {
     "name": "stdout",
     "output_type": "stream",
     "text": [
      "El goleador/goleadora es:CAROLINA con 14 goles \n"
     ]
    }
   ],
   "source": [
    "top_scorer= calculadora_de_premios.get_top_scorer(players_stats)\n",
    "print(f'El goleador/goleadora es:{top_scorer[0]} con {top_scorer[1]} goles ')"
   ]
  },
  {
   "cell_type": "markdown",
   "metadata": {},
   "source": [
    "#### **3.Conocer el nombre del jugador o jugadora más influyente, esto se consigue sumando goles a favor, goles evitados y cantidad de asistencias. La particularidad es que los goles a favor, evitados y las asistencias NO valen lo mismo (es un promedio ponderado):**\n",
    "* Goles a favor---> 1.5 \n",
    "* Goles evitados---> 1.25 \n",
    "* Asistencias --->1\n",
    "\n",
    "Para ello,dentro del módulo calculadora_de_premios, defino una funcion llamada \"get_MVP\" la cual recibe como parámetros la lista generada en el inciso 1 y un diccionario con los valores para calcular el promedio ponderado de los jugadores, y retorna un string con el nombre del jugador o jugadora mas influyente. Luego, se invoca a esta funcion con sus respectivos parámetros y se asigna su resultado a la variable \"MVP\"."
   ]
  },
  {
   "cell_type": "code",
   "execution_count": 6,
   "metadata": {},
   "outputs": [
    {
     "name": "stdout",
     "output_type": "stream",
     "text": [
      "El jugador mas influyente es: CAROLINA\n"
     ]
    }
   ],
   "source": [
    "points={ \"Goal\":1.5,\n",
    "        \"Goal avoid\":1.25,\n",
    "        \"Assist\":1\n",
    "}\n",
    "MVP= calculadora_de_premios.get_MVP(players_stats,points)\n",
    "print(f\"El jugador mas influyente es: {MVP}\")"
   ]
  },
  {
   "cell_type": "markdown",
   "metadata": {},
   "source": [
    "#### **4. Conocer el promedio de goles por partido del equipo en general. Dato: Se jugaron 25 partidos en la temporada.**\n",
    "\n",
    "Para ello,dentro del modulo calculadora_de_premios, defino una funcion llamada \"get_average\" la cual recibe como parámetros la lista generada en el inciso 1 y la cantidad de partidos en la temporada, y retorna un flotante con el promedio de goles por partido del equipo. Luego, se invoca a esta funcion con sus respectivos parámetros y se asigna su resultado a la variable \"average\"."
   ]
  },
  {
   "cell_type": "code",
   "execution_count": 7,
   "metadata": {},
   "outputs": [
    {
     "name": "stdout",
     "output_type": "stream",
     "text": [
      "El promedio de goles por partido del equipo es: 2.84 \n"
     ]
    }
   ],
   "source": [
    "total_matches=25\n",
    "average= calculadora_de_premios.get_average(players_stats,total_matches)\n",
    "print(f\"El promedio de goles por partido del equipo es: {average} \")"
   ]
  },
  {
   "cell_type": "markdown",
   "metadata": {},
   "source": [
    "#### **5.Conocer el promedio de goles por partido del goleador o goleadora. Dato: Se jugaron 25 partidos en la temporada**\n",
    "\n",
    "Para ello,dentro del módulo calculadora_de_premios, defino una funcion llamada \"get_average_top_scorer\" la cual recibe como parámetros la tupla (con el nombre y la cantidad de goles del goleador) generada en el inciso 2 y la cantidad de partidos en la temporada, y retorna un flotante con el promedio de goles del goleador o goleadora. Luego, se invoca a esta funcion con sus respectivos parámetros y se asigna su resultado a la variable \"average_top_scorer\"."
   ]
  },
  {
   "cell_type": "code",
   "execution_count": 8,
   "metadata": {},
   "outputs": [
    {
     "name": "stdout",
     "output_type": "stream",
     "text": [
      "El promedio de goles por partido de CAROLINA es de 0.56\n"
     ]
    }
   ],
   "source": [
    "average_top_scorer= calculadora_de_premios.get_average_top_scorer(top_scorer,total_matches)\n",
    "print(f\"El promedio de goles por partido de {top_scorer[0]} es de {average_top_scorer}\")"
   ]
  }
 ],
 "metadata": {
  "kernelspec": {
   "display_name": "venv",
   "language": "python",
   "name": "python3"
  },
  "language_info": {
   "codemirror_mode": {
    "name": "ipython",
    "version": 3
   },
   "file_extension": ".py",
   "mimetype": "text/x-python",
   "name": "python",
   "nbconvert_exporter": "python",
   "pygments_lexer": "ipython3",
   "version": "3.11.7"
  }
 },
 "nbformat": 4,
 "nbformat_minor": 2
}
